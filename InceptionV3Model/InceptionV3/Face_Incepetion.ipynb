{
  "nbformat": 4,
  "nbformat_minor": 0,
  "metadata": {
    "colab": {
      "name": "Face_Incepetion.ipynb",
      "provenance": [],
      "collapsed_sections": [],
      "machine_shape": "hm"
    },
    "kernelspec": {
      "name": "python3",
      "display_name": "Python 3"
    },
    "language_info": {
      "name": "python"
    },
    "accelerator": "GPU"
  },
  "cells": [
    {
      "cell_type": "code",
      "metadata": {
        "colab": {
          "base_uri": "https://localhost:8080/"
        },
        "id": "vFnB7F2jgBIH",
        "outputId": "2008d931-e3b4-4678-a06d-93300f5d8291"
      },
      "source": [
        "from google.colab import drive\n",
        "drive.mount('/content/drive')"
      ],
      "execution_count": null,
      "outputs": [
        {
          "output_type": "stream",
          "name": "stdout",
          "text": [
            "Drive already mounted at /content/drive; to attempt to forcibly remount, call drive.mount(\"/content/drive\", force_remount=True).\n"
          ]
        }
      ]
    },
    {
      "cell_type": "code",
      "metadata": {
        "colab": {
          "base_uri": "https://localhost:8080/"
        },
        "id": "g7DNpRvHgVNO",
        "outputId": "cf2453be-5e6b-471f-f842-a8a852bf7698"
      },
      "source": [
        "!pip install keras.utils "
      ],
      "execution_count": null,
      "outputs": [
        {
          "output_type": "stream",
          "name": "stdout",
          "text": [
            "Collecting keras.utils\n",
            "  Downloading keras-utils-1.0.13.tar.gz (2.4 kB)\n",
            "Requirement already satisfied: Keras>=2.1.5 in /usr/local/lib/python3.7/dist-packages (from keras.utils) (2.6.0)\n",
            "Building wheels for collected packages: keras.utils\n",
            "  Building wheel for keras.utils (setup.py) ... \u001b[?25l\u001b[?25hdone\n",
            "  Created wheel for keras.utils: filename=keras_utils-1.0.13-py3-none-any.whl size=2656 sha256=b1d1c5740f75e8f93bf856e964e4b4d6fe284b8ba15074128a3ee2ebcd2ddc47\n",
            "  Stored in directory: /root/.cache/pip/wheels/d0/dd/3b/493952a5240d486a83805d65360dedadbadeae71d25e2c877f\n",
            "Successfully built keras.utils\n",
            "Installing collected packages: keras.utils\n",
            "Successfully installed keras.utils-1.0.13\n"
          ]
        }
      ]
    },
    {
      "cell_type": "code",
      "metadata": {
        "id": "mlPxbY1gfzPc"
      },
      "source": [
        "import tensorflow as tf\n",
        "import pandas as pd \n",
        "from tensorflow.keras.utils import to_categorical\n",
        "import random\n",
        "import numpy as np\n",
        "import os\n",
        "import matplotlib.pyplot as plt\n",
        "\n",
        "from sklearn.model_selection import train_test_split\n",
        "from tensorflow.keras.layers import Input, Lambda, Dense, Flatten, Conv2D, MaxPooling2D, Dropout, Activation, BatchNormalization\n",
        "from tensorflow.keras.models import Model\n",
        "from tensorflow.keras.applications.inception_v3 import InceptionV3\n",
        "from keras.applications.vgg16 import VGG16\n",
        "from tensorflow.keras.applications.inception_v3 import preprocess_input\n",
        "from tensorflow.keras.preprocessing import image\n",
        "from tensorflow.keras.preprocessing.image import ImageDataGenerator,load_img, array_to_img, img_to_array\n",
        "from tensorflow.keras.models import Sequential\n",
        "from glob import glob"
      ],
      "execution_count": null,
      "outputs": []
    },
    {
      "cell_type": "code",
      "metadata": {
        "id": "Z1hXfpE4gzyf"
      },
      "source": [
        "# Define Constants by re-sizing all the images\n",
        "IMAGE_SIZE = [224, 224]\n",
        "\n",
        "train_path = '../content/drive/MyDrive/Face Recognition/Train_Image'\n",
        "valid_path = '../content/drive/MyDrive/Face Recognition/Test_Image'"
      ],
      "execution_count": null,
      "outputs": []
    },
    {
      "cell_type": "code",
      "metadata": {
        "colab": {
          "base_uri": "https://localhost:8080/"
        },
        "id": "GrpE4qNUv_Fn",
        "outputId": "b8db528a-b8ad-45de-b37f-3336749a5e9e"
      },
      "source": [
        "!ls '../content/drive/MyDrive/Face/Test_Image'"
      ],
      "execution_count": null,
      "outputs": [
        {
          "output_type": "stream",
          "name": "stdout",
          "text": [
            "ls: cannot access '../content/drive/MyDrive/Face/Test_Image': No such file or directory\n"
          ]
        }
      ]
    },
    {
      "cell_type": "code",
      "metadata": {
        "id": "dv0VQVb7hPKw",
        "colab": {
          "base_uri": "https://localhost:8080/"
        },
        "outputId": "85d5287e-a6e3-43fc-ca31-0336030ed8bf"
      },
      "source": [
        "# Import the InceptionV3 model and here we will be using imagenet weights\n",
        "\n",
        "inception = InceptionV3(input_shape=IMAGE_SIZE + [3], weights='imagenet', include_top=False)"
      ],
      "execution_count": null,
      "outputs": [
        {
          "output_type": "stream",
          "name": "stdout",
          "text": [
            "Downloading data from https://storage.googleapis.com/tensorflow/keras-applications/inception_v3/inception_v3_weights_tf_dim_ordering_tf_kernels_notop.h5\n",
            "87916544/87910968 [==============================] - 1s 0us/step\n",
            "87924736/87910968 [==============================] - 1s 0us/step\n"
          ]
        }
      ]
    },
    {
      "cell_type": "code",
      "metadata": {
        "id": "80_SthekhSce"
      },
      "source": [
        "# We don't need to train existing weights\n",
        "for layer in inception.layers:\n",
        "    layer.trainable = False"
      ],
      "execution_count": null,
      "outputs": []
    },
    {
      "cell_type": "code",
      "metadata": {
        "colab": {
          "base_uri": "https://localhost:8080/"
        },
        "id": "i5yc0ErdhWA2",
        "outputId": "1b641aee-d921-4cf8-e9e2-b32c69375283"
      },
      "source": [
        "# Folders in the Training Set\n",
        "folders = glob('../content/drive/MyDrive/Face Recognition/Train_Image/*')\n",
        "folders"
      ],
      "execution_count": null,
      "outputs": [
        {
          "output_type": "execute_result",
          "data": {
            "text/plain": [
              "['../content/drive/MyDrive/Face Recognition/Train_Image/Elias',\n",
              " '../content/drive/MyDrive/Face Recognition/Train_Image/Wahid',\n",
              " '../content/drive/MyDrive/Face Recognition/Train_Image/Mugdho']"
            ]
          },
          "metadata": {},
          "execution_count": 9
        }
      ]
    },
    {
      "cell_type": "code",
      "metadata": {
        "id": "1DG_s_EiheJW"
      },
      "source": [
        "# Model layers -> can add more if required\n",
        "x = Flatten()(inception.output)\n",
        "prediction = Dense(len(folders), activation='softmax')(x)"
      ],
      "execution_count": null,
      "outputs": []
    },
    {
      "cell_type": "code",
      "metadata": {
        "id": "qeFTr8iwhgwt"
      },
      "source": [
        "# Create a model object\n",
        "model = Model(inputs=inception.input, outputs=prediction)\n",
        "\n",
        "# View the structure of the model"
      ],
      "execution_count": null,
      "outputs": []
    },
    {
      "cell_type": "code",
      "metadata": {
        "id": "jkhHz08XhjG-"
      },
      "source": [
        "# Defining the cost and model optimization method to use\n",
        "model.compile(\n",
        "  loss='categorical_crossentropy',\n",
        "  optimizer='adam',\n",
        "  metrics=['accuracy']\n",
        ")"
      ],
      "execution_count": null,
      "outputs": []
    },
    {
      "cell_type": "code",
      "metadata": {
        "id": "UodjhYj6hnQe"
      },
      "source": [
        "# Using the Image Data Generator to import the images from the dataset\n",
        "from tensorflow.keras.preprocessing.image import ImageDataGenerator\n",
        "\n",
        "train_datagen = ImageDataGenerator(rescale = 1./255,\n",
        "                                   shear_range = 0.2,\n",
        "                                   zoom_range = 0.2,\n",
        "                                   horizontal_flip = True)\n",
        "\n",
        "test_datagen = ImageDataGenerator(rescale = 1./255)"
      ],
      "execution_count": null,
      "outputs": []
    },
    {
      "cell_type": "code",
      "metadata": {
        "colab": {
          "base_uri": "https://localhost:8080/"
        },
        "id": "upc_dr7yhpVt",
        "outputId": "5a0689f4-3bed-4c6c-b048-ded7bfc24987"
      },
      "source": [
        "# Training Generator\n",
        "training_set = train_datagen.flow_from_directory('../content/drive/MyDrive/Face Recognition/Train_Image',\n",
        "                                                 target_size = (224, 224),\n",
        "                                                 batch_size = 32,\n",
        "                                                 class_mode = 'categorical')"
      ],
      "execution_count": null,
      "outputs": [
        {
          "output_type": "stream",
          "name": "stdout",
          "text": [
            "Found 849 images belonging to 3 classes.\n"
          ]
        }
      ]
    },
    {
      "cell_type": "code",
      "metadata": {
        "colab": {
          "base_uri": "https://localhost:8080/"
        },
        "id": "JPp5jV5Shq_W",
        "outputId": "fcf7fe5b-54cf-44b2-abf8-8aac80bd549c"
      },
      "source": [
        "# Testing Generator\n",
        "test_set = test_datagen.flow_from_directory('../content/drive/MyDrive/Face Recognition/Test_Image',\n",
        "                                            target_size = (224, 224),\n",
        "                                            batch_size = 32,\n",
        "                                            class_mode = 'categorical')"
      ],
      "execution_count": null,
      "outputs": [
        {
          "output_type": "stream",
          "name": "stdout",
          "text": [
            "Found 213 images belonging to 3 classes.\n"
          ]
        }
      ]
    },
    {
      "cell_type": "code",
      "metadata": {
        "colab": {
          "base_uri": "https://localhost:8080/"
        },
        "id": "mgOOwjZLh-AO",
        "outputId": "e36026a9-e5d0-4a32-dc85-a2700d0e64f0"
      },
      "source": [
        "# fit the model, it will take some time to execute\n",
        "r = model.fit_generator(\n",
        "  training_set,\n",
        "  validation_data=test_set,\n",
        "  epochs=10,\n",
        "  steps_per_epoch=len(training_set),\n",
        "  validation_steps=len(test_set)\n",
        ")"
      ],
      "execution_count": null,
      "outputs": [
        {
          "metadata": {
            "tags": null
          },
          "name": "stderr",
          "output_type": "stream",
          "text": [
            "/usr/local/lib/python3.7/dist-packages/keras/engine/training.py:1972: UserWarning: `Model.fit_generator` is deprecated and will be removed in a future version. Please use `Model.fit`, which supports generators.\n",
            "  warnings.warn('`Model.fit_generator` is deprecated and '\n"
          ]
        },
        {
          "output_type": "stream",
          "name": "stdout",
          "text": [
            "Epoch 1/10\n",
            "27/27 [==============================] - 1043s 38s/step - loss: 3.1645 - accuracy: 0.8846 - val_loss: 1.1758 - val_accuracy: 0.9765\n",
            "Epoch 2/10\n",
            "27/27 [==============================] - 351s 13s/step - loss: 2.3611e-05 - accuracy: 1.0000 - val_loss: 0.8026 - val_accuracy: 0.9718\n",
            "Epoch 3/10\n",
            "27/27 [==============================] - 339s 13s/step - loss: 0.0232 - accuracy: 0.9976 - val_loss: 0.7373 - val_accuracy: 0.9671\n",
            "Epoch 4/10\n",
            "27/27 [==============================] - 325s 12s/step - loss: 0.0266 - accuracy: 0.9976 - val_loss: 1.1672 - val_accuracy: 0.9765\n",
            "Epoch 5/10\n",
            "27/27 [==============================] - 321s 12s/step - loss: 0.0147 - accuracy: 0.9988 - val_loss: 0.8958 - val_accuracy: 0.9765\n",
            "Epoch 6/10\n",
            "27/27 [==============================] - 324s 12s/step - loss: 6.1990e-07 - accuracy: 1.0000 - val_loss: 0.8044 - val_accuracy: 0.9765\n",
            "Epoch 7/10\n",
            "27/27 [==============================] - 327s 12s/step - loss: 4.2123e-10 - accuracy: 1.0000 - val_loss: 0.7985 - val_accuracy: 0.9765\n",
            "Epoch 8/10\n",
            "27/27 [==============================] - 324s 12s/step - loss: 1.1233e-09 - accuracy: 1.0000 - val_loss: 0.7981 - val_accuracy: 0.9765\n",
            "Epoch 9/10\n",
            "27/27 [==============================] - 328s 12s/step - loss: 0.0000e+00 - accuracy: 1.0000 - val_loss: 0.7981 - val_accuracy: 0.9765\n",
            "Epoch 10/10\n",
            "27/27 [==============================] - 327s 12s/step - loss: 1.1145e-04 - accuracy: 1.0000 - val_loss: 0.7651 - val_accuracy: 0.9765\n"
          ]
        }
      ]
    },
    {
      "cell_type": "code",
      "metadata": {
        "colab": {
          "base_uri": "https://localhost:8080/",
          "height": 530
        },
        "id": "3-bzHzCgiwPt",
        "outputId": "60e7fbf5-32b3-4339-d1c4-b29aec65969f"
      },
      "source": [
        "# Plot the Loss and Accuracy\n",
        "# Loss\n",
        "plt.plot(r.history['loss'], label='train loss')\n",
        "plt.plot(r.history['val_loss'], label='val loss')\n",
        "plt.legend()\n",
        "plt.show()\n",
        "plt.savefig('LossVal_loss')\n",
        "\n",
        "# Accuracy\n",
        "plt.plot(r.history['accuracy'], label='train acc')\n",
        "plt.plot(r.history['val_accuracy'], label='val acc')\n",
        "plt.legend()\n",
        "plt.show()\n",
        "plt.savefig('AccVal_acc')"
      ],
      "execution_count": null,
      "outputs": [
        {
          "output_type": "display_data",
          "data": {
            "image/png": "[encoded data removed]",
            "text/plain": [
              "<Figure size 432x288 with 1 Axes>"
            ]
          },
          "metadata": {
            "needs_background": "light"
          }
        },
        {
          "output_type": "display_data",
          "data": {
            "image/png": "[encoded data removed]",
            "text/plain": [
              "<Figure size 432x288 with 1 Axes>"
            ]
          },
          "metadata": {
            "needs_background": "light"
          }
        },
        {
          "output_type": "display_data",
          "data": {
            "text/plain": [
              "<Figure size 432x288 with 0 Axes>"
            ]
          },
          "metadata": {}
        }
      ]
    },
    {
      "cell_type": "code",
      "metadata": {
        "id": "qNA2F81Ii3fu"
      },
      "source": [
        "# Saving the model as a h5 file\n",
        "\n",
        "from tensorflow.keras.models import load_model\n",
        "model.save('model_inception.h5')"
      ],
      "execution_count": null,
      "outputs": []
    },
    {
      "cell_type": "code",
      "metadata": {
        "colab": {
          "base_uri": "https://localhost:8080/"
        },
        "id": "Gv0owW0qi5SW",
        "outputId": "9d7e08df-d7db-47b6-968d-7495d6feedd2"
      },
      "source": [
        "y_pred = model.predict(test_set)\n",
        "y_pred"
      ],
      "execution_count": null,
      "outputs": [
        {
          "output_type": "execute_result",
          "data": {
            "text/plain": [
              "array([[9.19133021e-32, 0.00000000e+00, 1.00000000e+00],\n",
              "       [1.51303599e-33, 1.00000000e+00, 1.59972561e-25],\n",
              "       [1.00000000e+00, 0.00000000e+00, 0.00000000e+00],\n",
              "       [1.00000000e+00, 5.45627569e-29, 1.46174664e-28],\n",
              "       [1.27499541e-23, 9.60525893e-36, 1.00000000e+00],\n",
              "       [0.00000000e+00, 1.00000000e+00, 0.00000000e+00],\n",
              "       [0.00000000e+00, 1.00000000e+00, 2.23645079e-29],\n",
              "       [0.00000000e+00, 1.00000000e+00, 1.54041467e-32],\n",
              "       [1.00000000e+00, 0.00000000e+00, 0.00000000e+00],\n",
              "       [1.00000000e+00, 0.00000000e+00, 0.00000000e+00],\n",
              "       [1.00000000e+00, 1.56198381e-16, 9.11568480e-20],\n",
              "       [2.31551559e-33, 1.00000000e+00, 2.89199194e-25],\n",
              "       [2.28831507e-38, 1.00000000e+00, 8.91979200e-26],\n",
              "       [0.00000000e+00, 0.00000000e+00, 1.00000000e+00],\n",
              "       [1.00000000e+00, 0.00000000e+00, 0.00000000e+00],\n",
              "       [1.65939013e-31, 0.00000000e+00, 1.00000000e+00],\n",
              "       [0.00000000e+00, 0.00000000e+00, 1.00000000e+00],\n",
              "       [1.00000000e+00, 1.40091363e-36, 5.05023077e-31],\n",
              "       [3.00877565e-35, 0.00000000e+00, 1.00000000e+00],\n",
              "       [0.00000000e+00, 0.00000000e+00, 1.00000000e+00],\n",
              "       [8.73116245e-34, 0.00000000e+00, 1.00000000e+00],\n",
              "       [1.19354120e-32, 1.00000000e+00, 1.89188981e-24],\n",
              "       [1.00000000e+00, 0.00000000e+00, 0.00000000e+00],\n",
              "       [1.44707642e-37, 1.00000000e+00, 6.72273307e-30],\n",
              "       [0.00000000e+00, 0.00000000e+00, 1.00000000e+00],\n",
              "       [4.30470862e-37, 0.00000000e+00, 1.00000000e+00],\n",
              "       [0.00000000e+00, 1.00000000e+00, 0.00000000e+00],\n",
              "       [0.00000000e+00, 1.00000000e+00, 3.71458052e-33],\n",
              "       [0.00000000e+00, 0.00000000e+00, 1.00000000e+00],\n",
              "       [0.00000000e+00, 0.00000000e+00, 1.00000000e+00],\n",
              "       [9.03653299e-21, 1.00000000e+00, 2.64607716e-18],\n",
              "       [0.00000000e+00, 1.00000000e+00, 0.00000000e+00],\n",
              "       [1.01054458e-32, 1.00000000e+00, 7.73504322e-30],\n",
              "       [1.00000000e+00, 0.00000000e+00, 0.00000000e+00],\n",
              "       [1.18044777e-37, 0.00000000e+00, 1.00000000e+00],\n",
              "       [1.00000000e+00, 1.90582107e-37, 0.00000000e+00],\n",
              "       [1.65939013e-31, 0.00000000e+00, 1.00000000e+00],\n",
              "       [1.00000000e+00, 1.56198381e-16, 9.11568480e-20],\n",
              "       [7.28087929e-24, 1.00000000e+00, 2.55210277e-20],\n",
              "       [0.00000000e+00, 1.00000000e+00, 0.00000000e+00],\n",
              "       [0.00000000e+00, 0.00000000e+00, 1.00000000e+00],\n",
              "       [1.78427754e-38, 0.00000000e+00, 1.00000000e+00],\n",
              "       [0.00000000e+00, 0.00000000e+00, 1.00000000e+00],\n",
              "       [0.00000000e+00, 0.00000000e+00, 1.00000000e+00],\n",
              "       [0.00000000e+00, 0.00000000e+00, 1.00000000e+00],\n",
              "       [0.00000000e+00, 0.00000000e+00, 1.00000000e+00],\n",
              "       [3.13265478e-36, 0.00000000e+00, 1.00000000e+00],\n",
              "       [1.00000000e+00, 0.00000000e+00, 0.00000000e+00],\n",
              "       [8.47049644e-30, 0.00000000e+00, 1.00000000e+00],\n",
              "       [0.00000000e+00, 1.00000000e+00, 6.39971509e-32],\n",
              "       [2.70488248e-33, 1.00000000e+00, 1.01637897e-31],\n",
              "       [0.00000000e+00, 0.00000000e+00, 1.00000000e+00],\n",
              "       [1.00000000e+00, 0.00000000e+00, 1.15201459e-33],\n",
              "       [0.00000000e+00, 1.00000000e+00, 0.00000000e+00],\n",
              "       [3.01799090e-30, 1.00000000e+00, 1.90387712e-26],\n",
              "       [1.00000000e+00, 0.00000000e+00, 1.90100626e-38],\n",
              "       [0.00000000e+00, 0.00000000e+00, 1.00000000e+00],\n",
              "       [4.82664352e-35, 0.00000000e+00, 1.00000000e+00],\n",
              "       [0.00000000e+00, 1.00000000e+00, 0.00000000e+00],\n",
              "       [0.00000000e+00, 1.00000000e+00, 1.74434860e-30],\n",
              "       [1.05714680e-28, 0.00000000e+00, 1.00000000e+00],\n",
              "       [1.00000000e+00, 0.00000000e+00, 0.00000000e+00],\n",
              "       [0.00000000e+00, 0.00000000e+00, 1.00000000e+00],\n",
              "       [1.00000000e+00, 0.00000000e+00, 0.00000000e+00],\n",
              "       [4.93610949e-36, 0.00000000e+00, 1.00000000e+00],\n",
              "       [0.00000000e+00, 0.00000000e+00, 1.00000000e+00],\n",
              "       [0.00000000e+00, 0.00000000e+00, 1.00000000e+00],\n",
              "       [1.00000000e+00, 0.00000000e+00, 0.00000000e+00],\n",
              "       [1.00000000e+00, 0.00000000e+00, 0.00000000e+00],\n",
              "       [0.00000000e+00, 1.00000000e+00, 2.40169119e-26],\n",
              "       [0.00000000e+00, 1.00000000e+00, 0.00000000e+00],\n",
              "       [0.00000000e+00, 1.00000000e+00, 7.73703297e-27],\n",
              "       [0.00000000e+00, 1.00000000e+00, 1.64898712e-28],\n",
              "       [0.00000000e+00, 0.00000000e+00, 1.00000000e+00],\n",
              "       [0.00000000e+00, 1.00000000e+00, 0.00000000e+00],\n",
              "       [0.00000000e+00, 1.00000000e+00, 2.94358748e-28],\n",
              "       [1.00000000e+00, 0.00000000e+00, 0.00000000e+00],\n",
              "       [0.00000000e+00, 1.00000000e+00, 1.85144946e-26],\n",
              "       [0.00000000e+00, 0.00000000e+00, 1.00000000e+00],\n",
              "       [0.00000000e+00, 0.00000000e+00, 1.00000000e+00],\n",
              "       [0.00000000e+00, 1.00000000e+00, 1.90911202e-35],\n",
              "       [1.00000000e+00, 0.00000000e+00, 4.93571007e-30],\n",
              "       [1.00000000e+00, 0.00000000e+00, 0.00000000e+00],\n",
              "       [1.00000000e+00, 0.00000000e+00, 0.00000000e+00],\n",
              "       [4.94405589e-31, 0.00000000e+00, 1.00000000e+00],\n",
              "       [0.00000000e+00, 1.00000000e+00, 0.00000000e+00],\n",
              "       [1.65939013e-31, 0.00000000e+00, 1.00000000e+00],\n",
              "       [0.00000000e+00, 0.00000000e+00, 1.00000000e+00],\n",
              "       [1.00000000e+00, 0.00000000e+00, 2.01081210e-32],\n",
              "       [1.00000000e+00, 0.00000000e+00, 0.00000000e+00],\n",
              "       [0.00000000e+00, 1.00000000e+00, 0.00000000e+00],\n",
              "       [1.78553402e-34, 1.00000000e+00, 5.91518199e-24],\n",
              "       [0.00000000e+00, 1.00000000e+00, 0.00000000e+00],\n",
              "       [3.99919907e-28, 0.00000000e+00, 1.00000000e+00],\n",
              "       [1.65939013e-31, 0.00000000e+00, 1.00000000e+00],\n",
              "       [0.00000000e+00, 0.00000000e+00, 1.00000000e+00],\n",
              "       [0.00000000e+00, 0.00000000e+00, 1.00000000e+00],\n",
              "       [0.00000000e+00, 1.00000000e+00, 1.14248672e-34],\n",
              "       [0.00000000e+00, 1.00000000e+00, 0.00000000e+00],\n",
              "       [1.29981539e-30, 0.00000000e+00, 1.00000000e+00],\n",
              "       [0.00000000e+00, 0.00000000e+00, 1.00000000e+00],\n",
              "       [9.19133021e-32, 0.00000000e+00, 1.00000000e+00],\n",
              "       [0.00000000e+00, 0.00000000e+00, 1.00000000e+00],\n",
              "       [0.00000000e+00, 0.00000000e+00, 1.00000000e+00],\n",
              "       [1.65939013e-31, 0.00000000e+00, 1.00000000e+00],\n",
              "       [1.00000000e+00, 3.73784388e-36, 9.13294216e-29],\n",
              "       [2.18349611e-27, 0.00000000e+00, 1.00000000e+00],\n",
              "       [0.00000000e+00, 1.00000000e+00, 2.98061746e-34],\n",
              "       [0.00000000e+00, 0.00000000e+00, 1.00000000e+00],\n",
              "       [8.55188911e-38, 1.00000000e+00, 1.62003513e-24],\n",
              "       [0.00000000e+00, 1.00000000e+00, 0.00000000e+00],\n",
              "       [9.19133021e-32, 0.00000000e+00, 1.00000000e+00],\n",
              "       [0.00000000e+00, 1.00000000e+00, 0.00000000e+00],\n",
              "       [1.11595402e-32, 0.00000000e+00, 1.00000000e+00],\n",
              "       [0.00000000e+00, 1.00000000e+00, 8.74061639e-29],\n",
              "       [0.00000000e+00, 1.00000000e+00, 0.00000000e+00],\n",
              "       [0.00000000e+00, 0.00000000e+00, 1.00000000e+00],\n",
              "       [1.00000000e+00, 0.00000000e+00, 0.00000000e+00],\n",
              "       [1.22478631e-30, 0.00000000e+00, 1.00000000e+00],\n",
              "       [6.23961743e-27, 1.00000000e+00, 1.01412674e-20],\n",
              "       [1.00000000e+00, 0.00000000e+00, 8.05051483e-36],\n",
              "       [0.00000000e+00, 1.00000000e+00, 0.00000000e+00],\n",
              "       [0.00000000e+00, 0.00000000e+00, 1.00000000e+00],\n",
              "       [1.00000000e+00, 4.23367635e-35, 4.71290198e-31],\n",
              "       [0.00000000e+00, 1.00000000e+00, 2.36506157e-33],\n",
              "       [1.00000000e+00, 1.14399069e-35, 3.42243047e-29],\n",
              "       [0.00000000e+00, 1.00000000e+00, 0.00000000e+00],\n",
              "       [1.00000000e+00, 0.00000000e+00, 0.00000000e+00],\n",
              "       [0.00000000e+00, 1.00000000e+00, 5.63566403e-29],\n",
              "       [1.00000000e+00, 0.00000000e+00, 0.00000000e+00],\n",
              "       [0.00000000e+00, 0.00000000e+00, 1.00000000e+00],\n",
              "       [1.00000000e+00, 0.00000000e+00, 0.00000000e+00],\n",
              "       [0.00000000e+00, 0.00000000e+00, 1.00000000e+00],\n",
              "       [9.19133021e-32, 0.00000000e+00, 1.00000000e+00],\n",
              "       [1.22478631e-30, 0.00000000e+00, 1.00000000e+00],\n",
              "       [2.81561713e-18, 1.00000000e+00, 1.39690675e-20],\n",
              "       [0.00000000e+00, 0.00000000e+00, 1.00000000e+00],\n",
              "       [8.68154214e-27, 1.00000000e+00, 1.42206644e-24],\n",
              "       [1.74030810e-37, 1.00000000e+00, 4.34548267e-27],\n",
              "       [1.00000000e+00, 0.00000000e+00, 0.00000000e+00],\n",
              "       [7.95171275e-37, 1.00000000e+00, 1.98707514e-24],\n",
              "       [1.61871559e-36, 0.00000000e+00, 1.00000000e+00],\n",
              "       [0.00000000e+00, 0.00000000e+00, 1.00000000e+00],\n",
              "       [1.03493768e-35, 0.00000000e+00, 1.00000000e+00],\n",
              "       [0.00000000e+00, 1.00000000e+00, 3.04282818e-26],\n",
              "       [1.89801600e-28, 1.00000000e+00, 2.25575839e-26],\n",
              "       [0.00000000e+00, 0.00000000e+00, 1.00000000e+00],\n",
              "       [0.00000000e+00, 0.00000000e+00, 1.00000000e+00],\n",
              "       [9.19133021e-32, 0.00000000e+00, 1.00000000e+00],\n",
              "       [0.00000000e+00, 1.00000000e+00, 6.00395495e-32],\n",
              "       [7.80897707e-32, 0.00000000e+00, 1.00000000e+00],\n",
              "       [0.00000000e+00, 0.00000000e+00, 1.00000000e+00],\n",
              "       [2.05827932e-30, 1.00000000e+00, 3.47476512e-27],\n",
              "       [0.00000000e+00, 1.00000000e+00, 1.41826303e-32],\n",
              "       [0.00000000e+00, 1.00000000e+00, 0.00000000e+00],\n",
              "       [0.00000000e+00, 0.00000000e+00, 1.00000000e+00],\n",
              "       [1.00000000e+00, 0.00000000e+00, 1.00437153e-34],\n",
              "       [0.00000000e+00, 0.00000000e+00, 1.00000000e+00],\n",
              "       [0.00000000e+00, 1.00000000e+00, 2.29615932e-30],\n",
              "       [0.00000000e+00, 1.00000000e+00, 0.00000000e+00],\n",
              "       [1.03070143e-29, 1.00000000e+00, 2.60045770e-32],\n",
              "       [6.93896431e-38, 1.00000000e+00, 1.20737386e-27],\n",
              "       [0.00000000e+00, 0.00000000e+00, 1.00000000e+00],\n",
              "       [0.00000000e+00, 1.00000000e+00, 8.12115803e-34],\n",
              "       [0.00000000e+00, 1.00000000e+00, 0.00000000e+00],\n",
              "       [1.00000000e+00, 0.00000000e+00, 0.00000000e+00],\n",
              "       [0.00000000e+00, 1.00000000e+00, 3.40952732e-38],\n",
              "       [0.00000000e+00, 0.00000000e+00, 1.00000000e+00],\n",
              "       [1.00000000e+00, 0.00000000e+00, 0.00000000e+00],\n",
              "       [1.00000000e+00, 0.00000000e+00, 0.00000000e+00],\n",
              "       [0.00000000e+00, 1.00000000e+00, 7.28970008e-36],\n",
              "       [1.00000000e+00, 0.00000000e+00, 0.00000000e+00],\n",
              "       [0.00000000e+00, 0.00000000e+00, 1.00000000e+00],\n",
              "       [0.00000000e+00, 0.00000000e+00, 1.00000000e+00],\n",
              "       [1.17127896e-15, 1.00000000e+00, 3.64368738e-21],\n",
              "       [8.88165951e-19, 1.00000000e+00, 6.42171007e-29],\n",
              "       [1.58176276e-34, 0.00000000e+00, 1.00000000e+00],\n",
              "       [0.00000000e+00, 1.00000000e+00, 1.54187422e-30],\n",
              "       [1.00000000e+00, 0.00000000e+00, 0.00000000e+00],\n",
              "       [9.99999285e-01, 1.56631708e-09, 6.75858644e-07],\n",
              "       [2.13888235e-32, 1.00000000e+00, 1.85923221e-21],\n",
              "       [1.00000000e+00, 0.00000000e+00, 0.00000000e+00],\n",
              "       [0.00000000e+00, 0.00000000e+00, 1.00000000e+00],\n",
              "       [2.77150464e-22, 1.00000000e+00, 3.09063800e-27],\n",
              "       [0.00000000e+00, 1.00000000e+00, 1.04280844e-27],\n",
              "       [1.00000000e+00, 0.00000000e+00, 0.00000000e+00],\n",
              "       [1.83282063e-26, 0.00000000e+00, 1.00000000e+00],\n",
              "       [1.00000000e+00, 0.00000000e+00, 6.54414369e-30],\n",
              "       [1.65939013e-31, 0.00000000e+00, 1.00000000e+00],\n",
              "       [9.13747170e-29, 0.00000000e+00, 1.00000000e+00],\n",
              "       [0.00000000e+00, 0.00000000e+00, 1.00000000e+00],\n",
              "       [1.00000000e+00, 0.00000000e+00, 1.00437153e-34],\n",
              "       [0.00000000e+00, 1.00000000e+00, 0.00000000e+00],\n",
              "       [0.00000000e+00, 1.00000000e+00, 0.00000000e+00],\n",
              "       [0.00000000e+00, 1.00000000e+00, 4.63162554e-33],\n",
              "       [0.00000000e+00, 1.00000000e+00, 0.00000000e+00],\n",
              "       [8.73487627e-38, 0.00000000e+00, 1.00000000e+00],\n",
              "       [1.00000000e+00, 2.77823684e-22, 4.05912418e-14],\n",
              "       [1.00000000e+00, 0.00000000e+00, 0.00000000e+00],\n",
              "       [8.61308376e-22, 3.70944602e-30, 1.00000000e+00],\n",
              "       [0.00000000e+00, 0.00000000e+00, 1.00000000e+00],\n",
              "       [1.00000000e+00, 0.00000000e+00, 3.50065578e-27],\n",
              "       [0.00000000e+00, 0.00000000e+00, 1.00000000e+00],\n",
              "       [0.00000000e+00, 0.00000000e+00, 1.00000000e+00],\n",
              "       [0.00000000e+00, 1.00000000e+00, 3.36303171e-34],\n",
              "       [9.99999285e-01, 1.56639479e-09, 6.75863134e-07],\n",
              "       [0.00000000e+00, 1.00000000e+00, 1.03709889e-36],\n",
              "       [0.00000000e+00, 1.00000000e+00, 8.22835694e-29],\n",
              "       [5.40841836e-32, 1.00000000e+00, 3.47214856e-23],\n",
              "       [0.00000000e+00, 1.00000000e+00, 0.00000000e+00],\n",
              "       [1.75742899e-27, 1.00000000e+00, 5.81747013e-20],\n",
              "       [1.00000000e+00, 3.30579409e-34, 2.73009334e-33],\n",
              "       [2.23926867e-36, 1.00000000e+00, 2.10178014e-26]], dtype=float32)"
            ]
          },
          "metadata": {},
          "execution_count": 19
        }
      ]
    }
  ]
}